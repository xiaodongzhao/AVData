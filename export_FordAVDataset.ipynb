{
 "cells": [
  {
   "cell_type": "markdown",
   "metadata": {},
   "source": [
    "This notebook will export data from the [Ford Multi-AV Dataset](https://avdata.ford.com/downloads/default.aspx)."
   ]
  },
  {
   "cell_type": "code",
   "execution_count": null,
   "metadata": {},
   "outputs": [],
   "source": [
    "from __future__ import print_function, division\n",
    "\n",
    "import os\n",
    "import sys\n",
    "import rosbag\n",
    "import numpy as np\n",
    "import matplotlib.pyplot as plt\n",
    "import pandas as pd\n",
    "from tqdm import tqdm\n",
    "from ros_numpy import numpify\n",
    "import sensor_msgs\n",
    "\n",
    "from IPython.core.display import display, HTML\n",
    "display(HTML(\"<style>.container { width:100% !important; }</style>\"))"
   ]
  },
  {
   "cell_type": "raw",
   "metadata": {},
   "source": [
    "raw_bag_file = \"/media/xiaodong/Data/FordAVDataset/2017-08-04-V2-Log1.bag\"\n",
    "raw_bag = rosbag.Bag(raw_bag_file)\n",
    "raw_info = raw_bag.get_type_and_topic_info()"
   ]
  },
  {
   "cell_type": "markdown",
   "metadata": {},
   "source": [
    "Re-record ROS bag with converted PointCloud2\n",
    "\n",
    "- Clone the source code from Ford.\n",
    "\n",
    "```bash\n",
    "cd ~/Documents\n",
    "mkdir -p FordAVData/src\n",
    "cd FordAVData/src \n",
    "git clone git@github.com:xiaodongzhao/AVData.git \n",
    "cd .. && catkin_make && source devel/setup.bash\n",
    "```\n",
    "\n",
    "- run the Ford ROS node\n",
    "\n",
    "```bash\n",
    "roslaunch ford_demo demo.launch map_dir:=/media/xiaodong/Data/FordAVDataset/Map/2017-08-04-Map1 calibration_dir:=/media/xiaodong/Data/FordAVDataset/Calibration/V2\n",
    "```\n",
    "\n",
    "- start the node to record output messages\n",
    "\n",
    "```bash\n",
    "rosbag record -a -x=.*_scan$ -O /media/xiaodong/Data/FordAVDataset/exported.bag\n",
    "```\n",
    "\n",
    "- start the ROS node to convert data\n",
    "\n",
    "```bash\n",
    "roslaunch ford_demo multi_lidar_convert.launch\n",
    "```\n",
    "\n",
    "- Replay the ROS bag\n",
    "\n",
    "```bash\n",
    "rosbag play /media/xiaodong/Data/FordAVDataset/2017-08-04-V2-Log1.bag\n",
    "```\n"
   ]
  },
  {
   "cell_type": "code",
   "execution_count": null,
   "metadata": {},
   "outputs": [],
   "source": [
    "bag_file = \"/media/xiaodong/Data/FordAVDataset/2017-08-04-V2-Log1_exported.bag\""
   ]
  },
  {
   "cell_type": "code",
   "execution_count": null,
   "metadata": {},
   "outputs": [],
   "source": [
    "bag = rosbag.Bag(bag_file)\n",
    "info = bag.get_type_and_topic_info()\n",
    "info.topics"
   ]
  },
  {
   "cell_type": "code",
   "execution_count": null,
   "metadata": {},
   "outputs": [],
   "source": [
    "export_topic_types = [\"sensor_msgs/PointCloud2\", \"sensor_msgs/Imu\", \"geometry_msgs/PoseStamped\", \"sensor_msgs/NavSatFix\"]\n",
    "topics = [k for k, v in info.topics.iteritems() if v.msg_type in export_topic_types]"
   ]
  },
  {
   "cell_type": "code",
   "execution_count": null,
   "metadata": {},
   "outputs": [],
   "source": [
    "time_limit = 5"
   ]
  },
  {
   "cell_type": "code",
   "execution_count": null,
   "metadata": {
    "scrolled": false
   },
   "outputs": [],
   "source": [
    "print(\"Extracting topics %s from %s...\" % (topics, bag_file))\n",
    "sys.stdout.flush()\n",
    "start_time = None\n",
    "msg_map = {k.strip(\"/\"): [] for k in topics}\n",
    "for topic, msg, t in tqdm(bag.read_messages(topics=topics)):\n",
    "    key = topic.strip(\"/\")\n",
    "    msg_map[key].append(msg)\n",
    "\n",
    "    if start_time is None:\n",
    "        start_time = t.to_sec()\n",
    "    if t.to_sec() - start_time >= time_limit:\n",
    "        break"
   ]
  },
  {
   "cell_type": "code",
   "execution_count": null,
   "metadata": {
    "scrolled": true
   },
   "outputs": [],
   "source": [
    "print(\"Message number \")\n",
    "{k: len(v) for k, v in msg_map.iteritems()}"
   ]
  },
  {
   "cell_type": "markdown",
   "metadata": {},
   "source": [
    "## Export"
   ]
  },
  {
   "cell_type": "code",
   "execution_count": null,
   "metadata": {
    "scrolled": false
   },
   "outputs": [],
   "source": [
    "output_file = \"/home/xiaodong/Dropbox/ShareFolders/FordAV_export/FordAV_export.h5\""
   ]
  },
  {
   "cell_type": "code",
   "execution_count": null,
   "metadata": {},
   "outputs": [],
   "source": [
    "if os.path.exists(output_file):\n",
    "    os.remove(output_file)\n",
    "\n",
    "store = pd.HDFStore(output_file)\n",
    "\n",
    "\n",
    "def get_time(msg):\n",
    "    return msg.header.stamp.secs + msg.header.stamp.nsecs * 1e-9"
   ]
  },
  {
   "cell_type": "markdown",
   "metadata": {},
   "source": [
    "### IMU"
   ]
  },
  {
   "cell_type": "code",
   "execution_count": null,
   "metadata": {},
   "outputs": [],
   "source": [
    "imu_topic = \"imu\""
   ]
  },
  {
   "cell_type": "code",
   "execution_count": null,
   "metadata": {},
   "outputs": [],
   "source": [
    "def iter_imu(msg_list):\n",
    "    for msg in msg_list:\n",
    "        m = {\"time\": get_time(msg)}\n",
    "        for var_name in [\"orientation\", \"angular_velocity\", \"linear_acceleration\"]:\n",
    "            var = getattr(msg, var_name)\n",
    "            for attr_name in [\"x\", \"y\", \"z\", \"w\"]:\n",
    "                if hasattr(var, attr_name):\n",
    "                    attr = getattr(var, attr_name)\n",
    "                    m[\"%s_%s\" % (var_name, attr_name)] = attr\n",
    "        yield m"
   ]
  },
  {
   "cell_type": "code",
   "execution_count": null,
   "metadata": {},
   "outputs": [],
   "source": [
    "imu_df = pd.DataFrame(iter_imu(msg_map[imu_topic]))\n",
    "store.put(imu_topic, imu_df)"
   ]
  },
  {
   "cell_type": "markdown",
   "metadata": {},
   "source": [
    "### GNSS"
   ]
  },
  {
   "cell_type": "code",
   "execution_count": null,
   "metadata": {},
   "outputs": [],
   "source": [
    "gps_topic = \"gps\""
   ]
  },
  {
   "cell_type": "code",
   "execution_count": null,
   "metadata": {},
   "outputs": [],
   "source": [
    "def iter_gps(msg_list):\n",
    "    for msg in msg_list:\n",
    "        m = {\"time\": get_time(msg)}\n",
    "        for var_name in [\"latitude\", \"longitude\", \"altitude\", \"position_covariance_type\"]:\n",
    "            m[\"%s\" % (var_name)] = getattr(msg, var_name)\n",
    "        yield m"
   ]
  },
  {
   "cell_type": "code",
   "execution_count": null,
   "metadata": {},
   "outputs": [],
   "source": [
    "gps_df = pd.DataFrame(iter_gps(msg_map[gps_topic]))\n",
    "store.put(gps_topic, gps_df)"
   ]
  },
  {
   "cell_type": "markdown",
   "metadata": {},
   "source": [
    "### LiDAR"
   ]
  },
  {
   "cell_type": "code",
   "execution_count": null,
   "metadata": {},
   "outputs": [],
   "source": [
    "lidar_topics = [t for t in msg_map.keys() if \"pointcloud\" in t and len(msg_map[t]) > 0]\n",
    "lidar_topics"
   ]
  },
  {
   "cell_type": "code",
   "execution_count": null,
   "metadata": {},
   "outputs": [],
   "source": [
    "def iter_pt(msg_list):\n",
    "    for i, msg in enumerate(msg_list):\n",
    "        msg.__class__ = sensor_msgs.msg.PointCloud2\n",
    "        arr = numpify(msg)\n",
    "        df = pd.DataFrame(arr)\n",
    "        yield get_time(msg), df"
   ]
  },
  {
   "cell_type": "code",
   "execution_count": null,
   "metadata": {
    "scrolled": false
   },
   "outputs": [],
   "source": [
    "for topic in lidar_topics:\n",
    "    print(topic)\n",
    "    for t, df in iter_pt(msg_map[topic]):\n",
    "        store.put(\"%s/time_%s\" % (topic, \"%d\" % (t * 1e9)), df)"
   ]
  },
  {
   "cell_type": "markdown",
   "metadata": {},
   "source": [
    "### Pose"
   ]
  },
  {
   "cell_type": "code",
   "execution_count": null,
   "metadata": {},
   "outputs": [],
   "source": [
    "pose_topics = [t for t in msg_map.keys() if \"pose\" in t and len(msg_map[t])>0]\n",
    "pose_topics"
   ]
  },
  {
   "cell_type": "code",
   "execution_count": null,
   "metadata": {},
   "outputs": [],
   "source": [
    "def iter_pose(msg_list):\n",
    "    for i, msg in enumerate(msg_list):\n",
    "        m = {\"time\": get_time(msg)}\n",
    "        position = msg.pose.position\n",
    "        orientation = msg.pose.orientation\n",
    "        for attr_name in [\"x\",\"y\", \"z\", \"w\"]:\n",
    "            if hasattr(position, attr_name):\n",
    "                m[\"%s_%s\"%(\"position\", attr_name)] = getattr(position, attr_name)\n",
    "            if hasattr(orientation, attr_name):\n",
    "                m[\"%s_%s\"%(\"orientation\", attr_name)] = getattr(orientation, attr_name)\n",
    "        yield m"
   ]
  },
  {
   "cell_type": "code",
   "execution_count": null,
   "metadata": {},
   "outputs": [],
   "source": [
    "for topic in pose_topics:\n",
    "    df = pd.DataFrame(iter_pose(msg_map[topic]))\n",
    "    store.put(topic, df)"
   ]
  },
  {
   "cell_type": "markdown",
   "metadata": {},
   "source": [
    "### Finish"
   ]
  },
  {
   "cell_type": "code",
   "execution_count": null,
   "metadata": {
    "scrolled": false
   },
   "outputs": [],
   "source": [
    "with open(\"/home/xiaodong/Dropbox/ShareFolders/FordAV_export/info.txt\", \"w\") as f:\n",
    "    f.write(\"Note: for PointCloud, the key is time_nanoseconds\\n\")\n",
    "    f.write(store.info())"
   ]
  },
  {
   "cell_type": "code",
   "execution_count": null,
   "metadata": {},
   "outputs": [],
   "source": [
    "store.close()"
   ]
  }
 ],
 "metadata": {
  "hide_input": false,
  "kernelspec": {
   "display_name": "Python 2",
   "language": "python",
   "name": "python2"
  },
  "language_info": {
   "codemirror_mode": {
    "name": "ipython",
    "version": 2
   },
   "file_extension": ".py",
   "mimetype": "text/x-python",
   "name": "python",
   "nbconvert_exporter": "python",
   "pygments_lexer": "ipython2",
   "version": "2.7.17"
  }
 },
 "nbformat": 4,
 "nbformat_minor": 2
}
